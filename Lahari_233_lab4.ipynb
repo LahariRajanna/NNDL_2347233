{
  "nbformat": 4,
  "nbformat_minor": 0,
  "metadata": {
    "colab": {
      "provenance": []
    },
    "kernelspec": {
      "name": "python3",
      "display_name": "Python 3"
    },
    "language_info": {
      "name": "python"
    }
  },
  "cells": [
    {
      "cell_type": "markdown",
      "source": [
        "**1. Data Preparation:**"
      ],
      "metadata": {
        "id": "BBYwfb04UEBg"
      }
    },
    {
      "cell_type": "code",
      "source": [
        "import numpy as np\n",
        "import pandas as pd\n",
        "import tensorflow as tf\n",
        "from sklearn.model_selection import train_test_split\n",
        "from sklearn.preprocessing import OneHotEncoder\n",
        "import matplotlib.pyplot as plt\n",
        "\n",
        "# Load the Kuzushiji dataset\n",
        "(X_train, y_train), (X_test, y_test) = tf.keras.datasets.mnist.load_data()  # placeholder for Kuzushiji dataset\n",
        "\n",
        "# Normalize pixel values between 0 and 1\n",
        "X_train = X_train / 255.0\n",
        "X_test = X_test / 255.0\n",
        "\n",
        "# Reshape data\n",
        "X_train = X_train.reshape((X_train.shape[0], -1))\n",
        "X_test = X_test.reshape((X_test.shape[0], -1))\n",
        "\n",
        "# One-hot encoding for the labels\n",
        "encoder = OneHotEncoder(sparse_output=False)  # Use sparse_output instead of sparse\n",
        "y_train = encoder.fit_transform(y_train.reshape(-1, 1))\n",
        "y_test = encoder.transform(y_test.reshape(-1, 1))\n",
        "\n",
        "# Split into train and test sets\n",
        "X_train, X_val, y_train, y_val = train_test_split(X_train, y_train, test_size=0.2, random_state=42)\n",
        "\n",
        "print(\"Train data shape:\", X_train.shape)\n",
        "print(\"Validation data shape:\", X_val.shape)\n",
        "print(\"Test data shape:\", X_test.shape)"
      ],
      "metadata": {
        "colab": {
          "base_uri": "https://localhost:8080/"
        },
        "id": "4DJpqNOtMBrf",
        "outputId": "4e5886fb-9c0d-4174-bc6d-f31254660ad2"
      },
      "execution_count": 2,
      "outputs": [
        {
          "output_type": "stream",
          "name": "stdout",
          "text": [
            "Train data shape: (48000, 784)\n",
            "Validation data shape: (12000, 784)\n",
            "Test data shape: (10000, 784)\n"
          ]
        }
      ]
    },
    {
      "cell_type": "markdown",
      "source": [
        "**2. Radial Basis Function (RBF) Network:**"
      ],
      "metadata": {
        "id": "5N6-1LiBUHXz"
      }
    },
    {
      "cell_type": "code",
      "source": [
        "from sklearn.cluster import KMeans\n",
        "from scipy.spatial.distance import cdist\n",
        "from sklearn.metrics import accuracy_score, confusion_matrix\n",
        "\n",
        "# Function to compute the Gaussian RBF\n",
        "def gaussian_rbf(x, center, sigma):\n",
        "    return np.exp(-np.linalg.norm(x - center, axis=1) ** 2 / (2 * sigma ** 2))\n",
        "\n",
        "# Function to create the RBF layer output matrix\n",
        "def rbf_layer(X, centers, sigma):\n",
        "    rbf_outputs = np.zeros((X.shape[0], centers.shape[0]))\n",
        "    for i, center in enumerate(centers):\n",
        "        rbf_outputs[:, i] = gaussian_rbf(X, center, sigma)\n",
        "    return rbf_outputs\n",
        "\n",
        "\n"
      ],
      "metadata": {
        "id": "2aXPJkXxTtRX"
      },
      "execution_count": 3,
      "outputs": []
    },
    {
      "cell_type": "markdown",
      "source": [
        "**3. Training:**"
      ],
      "metadata": {
        "id": "q8CYwDlOT6lz"
      }
    },
    {
      "cell_type": "code",
      "source": [
        "# Apply K-means clustering to find centers for the RBF units\n",
        "n_rbf_units = 10  # number of RBF units\n",
        "kmeans = KMeans(n_clusters=n_rbf_units, random_state=42)\n",
        "kmeans.fit(X_train)\n",
        "centers = kmeans.cluster_centers_\n",
        "\n",
        "# Calculate sigma based on the maximum distance between centers\n",
        "max_dist = np.max(cdist(centers, centers, 'euclidean'))\n",
        "sigma = max_dist / np.sqrt(2 * n_rbf_units)\n",
        "\n",
        "# Initialize weights for output layer\n",
        "n_classes = 10\n",
        "weights = np.random.randn(n_rbf_units, n_classes)\n",
        "learning_rate = 0.01\n",
        "epochs = 100\n",
        "\n",
        "# Gradient Descent to Optimize Weights\n",
        "for epoch in range(epochs):\n",
        "    # Forward Pass\n",
        "    rbf_outputs = rbf_layer(X_train, centers, sigma)\n",
        "    logits = np.dot(rbf_outputs, weights)\n",
        "    predictions = tf.nn.softmax(logits)\n",
        "\n",
        "    # Compute error and backpropagate\n",
        "    error = predictions - y_train\n",
        "    weight_grad = np.dot(rbf_outputs.T, error) / X_train.shape[0]\n",
        "    weights -= learning_rate * weight_grad\n",
        "\n",
        "    if epoch % 10 == 0:\n",
        "        train_accuracy = accuracy_score(np.argmax(y_train, axis=1), np.argmax(predictions, axis=1))\n",
        "        print(f\"Epoch {epoch}, Training accuracy: {train_accuracy}\")\n",
        "\n"
      ],
      "metadata": {
        "colab": {
          "base_uri": "https://localhost:8080/"
        },
        "id": "9GJrMozLT1CI",
        "outputId": "e52f1141-1ed6-4d2c-e656-aa8f3329d70e"
      },
      "execution_count": 6,
      "outputs": [
        {
          "output_type": "stream",
          "name": "stdout",
          "text": [
            "Epoch 0, Training accuracy: 0.03833333333333333\n",
            "Epoch 10, Training accuracy: 0.03833333333333333\n",
            "Epoch 20, Training accuracy: 0.03833333333333333\n",
            "Epoch 30, Training accuracy: 0.03833333333333333\n",
            "Epoch 40, Training accuracy: 0.03835416666666667\n",
            "Epoch 50, Training accuracy: 0.03835416666666667\n",
            "Epoch 60, Training accuracy: 0.038375\n",
            "Epoch 70, Training accuracy: 0.038375\n",
            "Epoch 80, Training accuracy: 0.038375\n",
            "Epoch 90, Training accuracy: 0.038375\n"
          ]
        }
      ]
    },
    {
      "cell_type": "markdown",
      "source": [
        "**4. Evaluation:**"
      ],
      "metadata": {
        "id": "9gNjND3SUQ58"
      }
    },
    {
      "cell_type": "code",
      "source": [
        "# Test the model on the validation set\n",
        "rbf_outputs_val = rbf_layer(X_val, centers, sigma)\n",
        "logits_val = np.dot(rbf_outputs_val, weights)\n",
        "predictions_val = tf.nn.softmax(logits_val)\n",
        "val_accuracy = accuracy_score(np.argmax(y_val, axis=1), np.argmax(predictions_val, axis=1))\n",
        "\n",
        "print(\"Validation Accuracy:\", val_accuracy)\n",
        "\n",
        "# Confusion matrix\n",
        "y_pred_val = np.argmax(predictions_val, axis=1)\n",
        "y_true_val = np.argmax(y_val, axis=1)\n",
        "conf_matrix = confusion_matrix(y_true_val, y_pred_val)\n",
        "\n",
        "plt.figure(figsize=(8, 6))\n",
        "plt.imshow(conf_matrix, cmap='Blues')\n",
        "plt.colorbar()\n",
        "plt.xlabel('Predicted')\n",
        "plt.ylabel('True')\n",
        "plt.title('Confusion Matrix')\n",
        "plt.show()\n"
      ],
      "metadata": {
        "colab": {
          "base_uri": "https://localhost:8080/",
          "height": 581
        },
        "id": "_-yKDyBLT29O",
        "outputId": "3d32a542-29d3-4ab8-8e6b-8e64f7c7e4f9"
      },
      "execution_count": 5,
      "outputs": [
        {
          "output_type": "stream",
          "name": "stdout",
          "text": [
            "Validation Accuracy: 0.11483333333333333\n"
          ]
        },
        {
          "output_type": "display_data",
          "data": {
            "text/plain": [
              "<Figure size 800x600 with 2 Axes>"
            ],
            "image/png": "[encoded data removed]"
          },
          "metadata": {}
        }
      ]
    },
    {
      "cell_type": "markdown",
      "source": [
        "**5. Analysis:**"
      ],
      "metadata": {
        "id": "G3STLgsMUXtn"
      }
    },
    {
      "cell_type": "markdown",
      "source": [
        "**Strengths:**\n",
        "\n",
        "Non-linearity: The RBF network can handle non-linear separations in data quite well, which may be beneficial for character recognition.\n",
        "\n",
        "Flexibility with data distribution: Gaussian functions enable the network to adapt based on the distribution of features, which is useful for complex patterns.\n",
        "\n",
        "**Limitations:**\n",
        "\n",
        "Scalability: RBF networks can be computationally expensive, especially with a large number of RBF units.\n",
        "\n",
        "Center Selection: Determining the optimal number of RBF units and centers can be challenging and may require tuning.\n"
      ],
      "metadata": {
        "id": "HrwpT6UbUm0-"
      }
    },
    {
      "cell_type": "markdown",
      "source": [
        "**Effect of the Number of RBF Units:**\n",
        "\n",
        "Higher RBF Units: With more RBF units, the model can learn finer details, but it may also lead to overfitting and increased computation time.\n",
        "\n",
        "Fewer RBF Units: Reducing the number of units can simplify the model and improve generalization but may lose accuracy if too few units are used."
      ],
      "metadata": {
        "id": "vzGM3_CHU7Xf"
      }
    }
  ]
}